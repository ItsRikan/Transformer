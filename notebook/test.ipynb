{
 "cells": [
  {
   "cell_type": "code",
   "execution_count": null,
   "id": "9510e60f",
   "metadata": {},
   "outputs": [],
   "source": [
    "class CustomQueue:\n",
    "    def __init__(self):\n",
    "        self.queue = []\n",
    "    def create(self, stats: dict):\n",
    "        self.queue = [(pair, freq) for pair, freq in stats.items()]\n",
    "        self.queue.sort(key=lambda x: x[1], reverse=True)\n",
    "\n",
    "    def push(self, pair, freq):\n",
    "        self.queue.append((pair, freq))\n",
    "        self.queue.sort(key=lambda x: x[1], reverse=True)\n",
    "\n",
    "    def pop(self):\n",
    "        if not self.queue:\n",
    "            return None\n",
    "        return self.queue.pop(0) \n",
    "\n",
    "    def update(self, pair, new_freq):\n",
    "        for i, (p, f) in enumerate(self.queue):\n",
    "            if p == pair:  \n",
    "                self.queue.pop(i)\n",
    "                self.push(pair, new_freq)\n",
    "                break\n",
    "\n",
    "    def push_merge(self, old_pair, old_freq, new_pair, new_freq):\n",
    "        self.push(new_pair, new_freq)\n",
    "        self.update(old_pair, old_freq)\n"
   ]
  },
  {
   "cell_type": "code",
   "execution_count": 55,
   "id": "60e3062b",
   "metadata": {},
   "outputs": [],
   "source": [
    "def _get_stats(ids):\n",
    "        frequency={}\n",
    "        for p in zip(ids,ids[1:]):\n",
    "            frequency[p] = frequency.get(p,0) + 1\n",
    "        return frequency"
   ]
  },
  {
   "cell_type": "code",
   "execution_count": null,
   "id": "4fd0457c",
   "metadata": {},
   "outputs": [],
   "source": [
    "tokens = [1, 2, 3, 5, 4, 2, 3, 1, 2, 2]\n",
    "\n",
    "# 1. Get initial stats\n",
    "stats = _get_stats(tokens)\n",
    "print(\"Initial stats:\", stats)\n",
    "\n",
    "# 2. Create queue\n",
    "queue = CustomQueue()\n",
    "queue.create(stats)\n",
    "print(\"Initial queue:\", queue.queue)\n",
    "\n",
    "# 3. Pop most frequent\n",
    "(old_pair, old_freq) = queue.pop()\n",
    "print(\"Most frequent pair popped:\", old_pair, old_freq)\n",
    "\n",
    "# 4. Simulate merge -> replace old_pair (2,3) with idx=9\n",
    "idx = 9\n",
    "# Example: merging (2,3)\n",
    "new_tokens = []\n",
    "i = 0\n",
    "while i < len(tokens):\n",
    "    if i < len(tokens)-1 and (tokens[i], tokens[i+1]) == old_pair:\n",
    "        new_tokens.append(idx)\n",
    "        i += 2\n",
    "    else:\n",
    "        new_tokens.append(tokens[i])\n",
    "        i += 1\n",
    "\n",
    "print(\"Tokens after merge:\", new_tokens)\n",
    "\n",
    "# 5. New stats after merge\n",
    "new_stats = _get_stats(new_tokens)\n",
    "print(\"New stats:\", new_stats)\n",
    "\n",
    "# 6. Push merge into queue\n",
    "for pair, freq in new_stats.items():\n",
    "    queue.push_merge(old_pair, old_freq, pair, freq)\n",
    "\n",
    "print(\"Queue after push_merge:\", queue.queue)"
   ]
  }
 ],
 "metadata": {
  "kernelspec": {
   "display_name": "Python 3",
   "language": "python",
   "name": "python3"
  },
  "language_info": {
   "codemirror_mode": {
    "name": "ipython",
    "version": 3
   },
   "file_extension": ".py",
   "mimetype": "text/x-python",
   "name": "python",
   "nbconvert_exporter": "python",
   "pygments_lexer": "ipython3",
   "version": "3.13.5"
  }
 },
 "nbformat": 4,
 "nbformat_minor": 5
}
